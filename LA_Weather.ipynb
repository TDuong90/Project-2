{
 "cells": [
  {
   "cell_type": "code",
   "execution_count": 1,
   "metadata": {},
   "outputs": [],
   "source": [
    "import pandas as pd\n",
    "import matplotlib.pyplot as plt\n",
    "import scipy.stats as sts\n",
    "import numpy as np"
   ]
  },
  {
   "cell_type": "code",
   "execution_count": 3,
   "metadata": {},
   "outputs": [
    {
     "output_type": "execute_result",
     "data": {
      "text/plain": "         Date  High   Low  Precip\n0  2019-01-01  60.1  43.0     0.0\n1  2019-01-02  63.0  45.0     0.0\n2  2019-01-03  68.0  48.9     0.0\n3  2019-01-04  66.0  51.1     0.0\n4  2019-01-05  61.0  50.0     0.1",
      "text/html": "<div>\n<style scoped>\n    .dataframe tbody tr th:only-of-type {\n        vertical-align: middle;\n    }\n\n    .dataframe tbody tr th {\n        vertical-align: top;\n    }\n\n    .dataframe thead th {\n        text-align: right;\n    }\n</style>\n<table border=\"1\" class=\"dataframe\">\n  <thead>\n    <tr style=\"text-align: right;\">\n      <th></th>\n      <th>Date</th>\n      <th>High</th>\n      <th>Low</th>\n      <th>Precip</th>\n    </tr>\n  </thead>\n  <tbody>\n    <tr>\n      <th>0</th>\n      <td>2019-01-01</td>\n      <td>60.1</td>\n      <td>43.0</td>\n      <td>0.0</td>\n    </tr>\n    <tr>\n      <th>1</th>\n      <td>2019-01-02</td>\n      <td>63.0</td>\n      <td>45.0</td>\n      <td>0.0</td>\n    </tr>\n    <tr>\n      <th>2</th>\n      <td>2019-01-03</td>\n      <td>68.0</td>\n      <td>48.9</td>\n      <td>0.0</td>\n    </tr>\n    <tr>\n      <th>3</th>\n      <td>2019-01-04</td>\n      <td>66.0</td>\n      <td>51.1</td>\n      <td>0.0</td>\n    </tr>\n    <tr>\n      <th>4</th>\n      <td>2019-01-05</td>\n      <td>61.0</td>\n      <td>50.0</td>\n      <td>0.1</td>\n    </tr>\n  </tbody>\n</table>\n</div>"
     },
     "metadata": {},
     "execution_count": 3
    }
   ],
   "source": [
    "weather_df = pd.read_csv(\"LA_Weather_2019.csv\")\n",
    "weather_df.head()"
   ]
  },
  {
   "cell_type": "code",
   "execution_count": 8,
   "metadata": {},
   "outputs": [
    {
     "output_type": "execute_result",
     "data": {
      "text/plain": "           Date  High   Low  Precip\n0    2019-01-01  60.1  43.0    0.00\n1    2019-01-02  63.0  45.0    0.00\n2    2019-01-03  68.0  48.9    0.00\n3    2019-01-04  66.0  51.1    0.00\n4    2019-01-05  61.0  50.0    0.10\n..          ...   ...   ...     ...\n342  2019-12-10  68.0  46.0    0.00\n343  2019-12-11  64.0  48.9    0.00\n344  2019-12-12  66.0  48.0    0.00\n345  2019-12-13  69.1  54.0    0.00\n346  2019-12-14  62.1  48.9    2.14\n\n[347 rows x 4 columns]",
      "text/html": "<div>\n<style scoped>\n    .dataframe tbody tr th:only-of-type {\n        vertical-align: middle;\n    }\n\n    .dataframe tbody tr th {\n        vertical-align: top;\n    }\n\n    .dataframe thead th {\n        text-align: right;\n    }\n</style>\n<table border=\"1\" class=\"dataframe\">\n  <thead>\n    <tr style=\"text-align: right;\">\n      <th></th>\n      <th>Date</th>\n      <th>High</th>\n      <th>Low</th>\n      <th>Precip</th>\n    </tr>\n  </thead>\n  <tbody>\n    <tr>\n      <th>0</th>\n      <td>2019-01-01</td>\n      <td>60.1</td>\n      <td>43.0</td>\n      <td>0.00</td>\n    </tr>\n    <tr>\n      <th>1</th>\n      <td>2019-01-02</td>\n      <td>63.0</td>\n      <td>45.0</td>\n      <td>0.00</td>\n    </tr>\n    <tr>\n      <th>2</th>\n      <td>2019-01-03</td>\n      <td>68.0</td>\n      <td>48.9</td>\n      <td>0.00</td>\n    </tr>\n    <tr>\n      <th>3</th>\n      <td>2019-01-04</td>\n      <td>66.0</td>\n      <td>51.1</td>\n      <td>0.00</td>\n    </tr>\n    <tr>\n      <th>4</th>\n      <td>2019-01-05</td>\n      <td>61.0</td>\n      <td>50.0</td>\n      <td>0.10</td>\n    </tr>\n    <tr>\n      <th>...</th>\n      <td>...</td>\n      <td>...</td>\n      <td>...</td>\n      <td>...</td>\n    </tr>\n    <tr>\n      <th>342</th>\n      <td>2019-12-10</td>\n      <td>68.0</td>\n      <td>46.0</td>\n      <td>0.00</td>\n    </tr>\n    <tr>\n      <th>343</th>\n      <td>2019-12-11</td>\n      <td>64.0</td>\n      <td>48.9</td>\n      <td>0.00</td>\n    </tr>\n    <tr>\n      <th>344</th>\n      <td>2019-12-12</td>\n      <td>66.0</td>\n      <td>48.0</td>\n      <td>0.00</td>\n    </tr>\n    <tr>\n      <th>345</th>\n      <td>2019-12-13</td>\n      <td>69.1</td>\n      <td>54.0</td>\n      <td>0.00</td>\n    </tr>\n    <tr>\n      <th>346</th>\n      <td>2019-12-14</td>\n      <td>62.1</td>\n      <td>48.9</td>\n      <td>2.14</td>\n    </tr>\n  </tbody>\n</table>\n<p>347 rows × 4 columns</p>\n</div>"
     },
     "metadata": {},
     "execution_count": 8
    }
   ],
   "source": [
    "null_check = pd.notnull(weather_df[[\"Date\",\"High\",\"Low\",\"Precip\"]])\n",
    "weather_df[null_check]"
   ]
  },
  {
   "cell_type": "code",
   "execution_count": null,
   "metadata": {},
   "outputs": [],
   "source": []
  }
 ],
 "metadata": {
  "language_info": {
   "codemirror_mode": {
    "name": "ipython",
    "version": 3
   },
   "file_extension": ".py",
   "mimetype": "text/x-python",
   "name": "python",
   "nbconvert_exporter": "python",
   "pygments_lexer": "ipython3",
   "version": 3
  },
  "orig_nbformat": 2,
  "kernelspec": {
   "name": "python_defaultSpec_1594894725317",
   "display_name": "Python 3.7.6 64-bit ('base': conda)"
  }
 },
 "nbformat": 4,
 "nbformat_minor": 2
}