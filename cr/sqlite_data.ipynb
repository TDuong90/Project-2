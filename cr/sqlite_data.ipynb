{
 "cells": [
  {
   "cell_type": "code",
   "execution_count": 2,
   "metadata": {},
   "outputs": [],
   "source": [
    "%matplotlib inline\n",
    "from matplotlib import style\n",
    "style.use('fivethirtyeight')\n",
    "import matplotlib.pyplot as plt\n",
    "import numpy as np\n",
    "import pandas as pd\n",
    "import datetime as dt"
   ]
  },
  {
   "cell_type": "code",
   "execution_count": 3,
   "metadata": {},
   "outputs": [],
   "source": [
    "# Python SQL toolkit and Object Relational Mapper\n",
    "import sqlalchemy\n",
    "from sqlalchemy.ext.automap import automap_base\n",
    "from sqlalchemy.orm import Session\n",
    "from sqlalchemy import create_engine, func, inspect"
   ]
  },
  {
   "cell_type": "code",
   "execution_count": 16,
   "metadata": {},
   "outputs": [],
   "source": [
    "engine = create_engine(\"sqlite:///sqlite_traffic_weather.db\")"
   ]
  },
  {
   "cell_type": "code",
   "execution_count": 17,
   "metadata": {},
   "outputs": [],
   "source": [
    "Base = automap_base()\n",
    "Base.prepare(engine, reflect=True)"
   ]
  },
  {
   "cell_type": "code",
   "execution_count": 18,
   "metadata": {},
   "outputs": [
    {
     "data": {
      "text/plain": [
       "['national-weather-service', 'traffic_data_clean_final']"
      ]
     },
     "execution_count": 18,
     "metadata": {},
     "output_type": "execute_result"
    }
   ],
   "source": [
    "Base.classes.keys()"
   ]
  },
  {
   "cell_type": "code",
   "execution_count": 19,
   "metadata": {},
   "outputs": [
    {
     "name": "stdout",
     "output_type": "stream",
     "text": [
      "Weather_Date TEXT\n",
      "Max INTEGER\n",
      "Min INTEGER\n",
      "Average INTEGER\n",
      "Precipitation INTEGER\n"
     ]
    }
   ],
   "source": [
    "# Inspect joined_traffic_weather\n",
    "inspector = inspect(engine)\n",
    "columns = inspector.get_columns('national-weather-service')\n",
    "for c in columns:\n",
    "    print(c['name'], c['type'])"
   ]
  },
  {
   "cell_type": "code",
   "execution_count": 20,
   "metadata": {},
   "outputs": [
    {
     "name": "stdout",
     "output_type": "stream",
     "text": [
      "DR_Number INTEGER\n",
      "Date TEXT\n",
      "Time_of_Day TEXT\n",
      "Date_Occurred TEXT\n",
      "Time_Occurred INTEGER\n",
      "Area_ID INTEGER\n",
      "Area_Name TEXT\n",
      "Reporting_District INTEGER\n",
      "Crime_Code INTEGER\n",
      "Crime_Code_Description TEXT\n",
      "MO_Codes TEXT\n",
      "Victim_Age INTEGER\n",
      "Victim_Sex TEXT\n",
      "Premise_Code INTEGER\n",
      "Premise_Description TEXT\n",
      "Address TEXT\n",
      "Cross_Street TEXT\n",
      "Location TEXT\n",
      "Latitude REAL\n",
      "Longitude REAL\n"
     ]
    }
   ],
   "source": [
    "# Inspect joined_traffic_weather\n",
    "inspector = inspect(engine)\n",
    "columns = inspector.get_columns('traffic_data_clean_final')\n",
    "for c in columns:\n",
    "    print(c['name'], c['type'])"
   ]
  },
  {
   "cell_type": "code",
   "execution_count": null,
   "metadata": {},
   "outputs": [],
   "source": []
  },
  {
   "cell_type": "code",
   "execution_count": null,
   "metadata": {},
   "outputs": [],
   "source": []
  }
 ],
 "metadata": {
  "kernelspec": {
   "display_name": "Python 3",
   "language": "python",
   "name": "python3"
  },
  "language_info": {
   "codemirror_mode": {
    "name": "ipython",
    "version": 3
   },
   "file_extension": ".py",
   "mimetype": "text/x-python",
   "name": "python",
   "nbconvert_exporter": "python",
   "pygments_lexer": "ipython3",
   "version": "3.8.2"
  }
 },
 "nbformat": 4,
 "nbformat_minor": 4
}
